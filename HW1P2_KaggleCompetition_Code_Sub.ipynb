{
 "cells": [
  {
   "cell_type": "markdown",
   "metadata": {
    "Collapsed": "false",
    "id": "g9n37Pf8isj2"
   },
   "source": [
    "# HW 1 Problem 2"
   ]
  },
  {
   "cell_type": "markdown",
   "metadata": {
    "Collapsed": "false",
    "id": "LQapFrR021Dm"
   },
   "source": [
    "## Setup Kaggle Connection"
   ]
  },
  {
   "cell_type": "code",
   "execution_count": null,
   "metadata": {
    "Collapsed": "false",
    "colab": {
     "base_uri": "https://localhost:8080/",
     "height": 34
    },
    "id": "_l3PgUp_1aKf",
    "outputId": "6610dd6a-f2d7-450c-9f24-927c23a84280"
   },
   "outputs": [
    {
     "name": "stdout",
     "output_type": "stream",
     "text": [
      "Mounted at /content/gdrive\n"
     ]
    }
   ],
   "source": [
    "from google.colab import drive\n",
    "drive.mount('/content/gdrive')"
   ]
  },
  {
   "cell_type": "code",
   "execution_count": null,
   "metadata": {
    "Collapsed": "false",
    "colab": {
     "base_uri": "https://localhost:8080/",
     "height": 241
    },
    "id": "t3xcclzXimmX",
    "outputId": "63d66ea5-4322-4179-f744-b42100fb3651"
   },
   "outputs": [
    {
     "name": "stdout",
     "output_type": "stream",
     "text": [
      "Requirement already satisfied: kaggle in /usr/local/lib/python3.6/dist-packages (1.5.8)\n",
      "Requirement already satisfied: tqdm in /usr/local/lib/python3.6/dist-packages (from kaggle) (4.41.1)\n",
      "Requirement already satisfied: requests in /usr/local/lib/python3.6/dist-packages (from kaggle) (2.23.0)\n",
      "Requirement already satisfied: slugify in /usr/local/lib/python3.6/dist-packages (from kaggle) (0.0.1)\n",
      "Requirement already satisfied: six>=1.10 in /usr/local/lib/python3.6/dist-packages (from kaggle) (1.15.0)\n",
      "Requirement already satisfied: certifi in /usr/local/lib/python3.6/dist-packages (from kaggle) (2020.6.20)\n",
      "Requirement already satisfied: python-dateutil in /usr/local/lib/python3.6/dist-packages (from kaggle) (2.8.1)\n",
      "Requirement already satisfied: urllib3<1.25,>=1.21.1 in /usr/local/lib/python3.6/dist-packages (from kaggle) (1.24.3)\n",
      "Requirement already satisfied: python-slugify in /usr/local/lib/python3.6/dist-packages (from kaggle) (4.0.1)\n",
      "Requirement already satisfied: chardet<4,>=3.0.2 in /usr/local/lib/python3.6/dist-packages (from requests->kaggle) (3.0.4)\n",
      "Requirement already satisfied: idna<3,>=2.5 in /usr/local/lib/python3.6/dist-packages (from requests->kaggle) (2.10)\n",
      "Requirement already satisfied: text-unidecode>=1.3 in /usr/local/lib/python3.6/dist-packages (from python-slugify->kaggle) (1.3)\n"
     ]
    }
   ],
   "source": [
    "!pip install kaggle"
   ]
  },
  {
   "cell_type": "code",
   "execution_count": null,
   "metadata": {
    "Collapsed": "false",
    "colab": {
     "base_uri": "https://localhost:8080/",
     "height": 90,
     "resources": {
      "http://localhost:8080/nbextensions/google.colab/files.js": {
       "data": "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",
       "headers": [
        [
         "content-type",
         "application/javascript"
        ]
       ],
       "ok": true,
       "status": 200,
       "status_text": ""
      }
     }
    },
    "id": "74A4EDCG14Hi",
    "outputId": "b3406a20-a549-4d69-955e-feaac685cf67"
   },
   "outputs": [
    {
     "data": {
      "text/html": [
       "\n",
       "     <input type=\"file\" id=\"files-48452ad4-8643-46dc-9f62-65bb534bb14c\" name=\"files[]\" multiple disabled\n",
       "        style=\"border:none\" />\n",
       "     <output id=\"result-48452ad4-8643-46dc-9f62-65bb534bb14c\">\n",
       "      Upload widget is only available when the cell has been executed in the\n",
       "      current browser session. Please rerun this cell to enable.\n",
       "      </output>\n",
       "      <script src=\"/nbextensions/google.colab/files.js\"></script> "
      ],
      "text/plain": [
       "<IPython.core.display.HTML object>"
      ]
     },
     "metadata": {
      "tags": []
     },
     "output_type": "display_data"
    },
    {
     "name": "stdout",
     "output_type": "stream",
     "text": [
      "Saving kaggle.json to kaggle.json\n"
     ]
    },
    {
     "data": {
      "text/plain": [
       "{'kaggle.json': b'{\"username\":\"dennisloevlie\",\"key\":\"cbe54b3c2f523675dbd2d958419139df\"}'}"
      ]
     },
     "execution_count": 5,
     "metadata": {
      "tags": []
     },
     "output_type": "execute_result"
    }
   ],
   "source": [
    "from google.colab import files\n",
    "files.upload()"
   ]
  },
  {
   "cell_type": "code",
   "execution_count": null,
   "metadata": {
    "Collapsed": "false",
    "id": "MCp81Vf92I6Y"
   },
   "outputs": [],
   "source": [
    "! mkdir ~/.kaggle"
   ]
  },
  {
   "cell_type": "code",
   "execution_count": null,
   "metadata": {
    "Collapsed": "false",
    "id": "tAXSLbMk1yEN"
   },
   "outputs": [],
   "source": [
    "! cp kaggle.json ~/.kaggle/"
   ]
  },
  {
   "cell_type": "code",
   "execution_count": null,
   "metadata": {
    "Collapsed": "false",
    "id": "cPsb3vUg10ia"
   },
   "outputs": [],
   "source": [
    "! chmod 600 ~/.kaggle/kaggle.json"
   ]
  },
  {
   "cell_type": "code",
   "execution_count": null,
   "metadata": {
    "Collapsed": "false",
    "colab": {
     "base_uri": "https://localhost:8080/",
     "height": 428
    },
    "id": "26tuQWcq2UQo",
    "outputId": "4e27f852-0af7-4566-8cd2-53905c089d67"
   },
   "outputs": [
    {
     "name": "stdout",
     "output_type": "stream",
     "text": [
      "Warning: Looks like you're using an outdated API Version, please consider updating (server 1.5.6 / client 1.5.4)\n",
      "ref                                                    title                                              size  lastUpdated          downloadCount  \n",
      "-----------------------------------------------------  ------------------------------------------------  -----  -------------------  -------------  \n",
      "shivan118/healthcare-analytics                         AV : Healthcare Analytics                           2MB  2020-09-13 17:40:05           2023  \n",
      "datatattle/covid-19-nlp-text-classification            Coronavirus tweets NLP - Text Classification        4MB  2020-09-08 11:40:11           1350  \n",
      "anmolkumar/health-insurance-cross-sell-prediction      Health Insurance Cross Sell Prediction 🏠 🏥          6MB  2020-09-11 18:39:31           2418  \n",
      "Cornell-University/arxiv                               arXiv Dataset                                     888MB  2020-09-22 15:33:49           3105  \n",
      "nipunarora8/age-gender-and-ethnicity-face-data-csv     AGE, GENDER AND ETHNICITY (FACE DATA) CSV          63MB  2020-09-02 13:46:38            974  \n",
      "ramjidoolla/ipl-data-set                               IPL _Data_Set                                       1MB  2020-09-14 10:57:42           1723  \n",
      "yoannboyere/co2-ghg-emissionsdata                      CO2_GHG_emissions-data                            147KB  2020-09-14 09:59:25            925  \n",
      "anikannal/solar-power-generation-data                  Solar Power Generation Data                         2MB  2020-08-18 15:52:03           4530  \n",
      "nehaprabhavalkar/av-healthcare-analytics-ii            AV : Healthcare Analytics II                        7MB  2020-08-29 03:40:10           2152  \n",
      "imoore/60k-stack-overflow-questions-with-quality-rate  60k Stack Overflow Questions with Quality Rating   21MB  2020-09-19 20:53:26           1286  \n",
      "tunguz/us-elections-dataset                            US Elections Dataset                               16MB  2020-09-22 20:27:55           2855  \n",
      "jmmvutu/summer-products-and-sales-in-ecommerce-wish    Sales of summer clothes in E-commerce Wish        376KB  2020-08-23 15:16:46           6801  \n",
      "ruchi798/bookcrossing-dataset                          Book-Crossing: User review ratings                 25MB  2020-08-11 10:40:25           1250  \n",
      "google/tinyquickdraw                                   QuickDraw Sketches                                 11GB  2018-04-18 19:38:04           2325  \n",
      "agirlcoding/all-space-missions-from-1957               All Space Missions from 1957                      101KB  2020-08-13 16:18:58           3598  \n",
      "ihelon/lego-minifigures-classification                 LEGO Minifigures                                   19MB  2020-09-22 07:33:22           1237  \n",
      "datasnaek/youtube-new                                  Trending YouTube Video Statistics                 201MB  2019-06-03 00:56:47         106005  \n",
      "zynicide/wine-reviews                                  Wine Reviews                                       51MB  2017-11-27 17:08:04         113306  \n",
      "residentmario/ramen-ratings                            Ramen Ratings                                      40KB  2018-01-11 16:04:39          13960  \n",
      "datasnaek/chess                                        Chess Game Dataset (Lichess)                        3MB  2017-09-04 03:09:09           9140  \n"
     ]
    }
   ],
   "source": [
    " ! kaggle datasets list"
   ]
  },
  {
   "cell_type": "code",
   "execution_count": null,
   "metadata": {
    "Collapsed": "false",
    "colab": {
     "base_uri": "https://localhost:8080/",
     "height": 391
    },
    "id": "WXAKHfp93ANp",
    "outputId": "56bbc6c2-c829-4b2d-bee1-b6b28e9dcb86"
   },
   "outputs": [
    {
     "name": "stdout",
     "output_type": "stream",
     "text": [
      "Warning: Looks like you're using an outdated API Version, please consider updating (server 1.5.6 / client 1.5.4)\n",
      "Downloading test.npy.zip to /content\n",
      " 98% 96.0M/98.1M [00:01<00:00, 39.6MB/s]\n",
      "100% 98.1M/98.1M [00:01<00:00, 59.9MB/s]\n",
      "Downloading train.npy.zip to /content\n",
      " 99% 1.56G/1.57G [00:25<00:00, 32.8MB/s]\n",
      "100% 1.57G/1.57G [00:25<00:00, 65.9MB/s]\n",
      "Downloading dev.npy.zip to /content\n",
      " 79% 78.0M/98.6M [00:00<00:00, 56.8MB/s]\n",
      "100% 98.6M/98.6M [00:00<00:00, 119MB/s] \n",
      "Downloading train_labels.npy.zip to /content\n",
      "  0% 0.00/9.45M [00:00<?, ?B/s]\n",
      "100% 9.45M/9.45M [00:00<00:00, 86.9MB/s]\n",
      "Downloading dev_labels.npy.zip to /content\n",
      "  0% 0.00/622k [00:00<?, ?B/s]\n",
      "100% 622k/622k [00:00<00:00, 205MB/s]\n",
      "Downloading sample.csv.zip to /content\n",
      "  0% 0.00/3.36M [00:00<?, ?B/s]\n",
      "100% 3.36M/3.36M [00:00<00:00, 230MB/s]\n",
      "Downloading phones.txt to /content\n",
      "  0% 0.00/3.19k [00:00<?, ?B/s]\n",
      "100% 3.19k/3.19k [00:00<00:00, 3.12MB/s]\n"
     ]
    }
   ],
   "source": [
    "! kaggle competitions download -c '11-785-fall-20-homework-1-part-2'"
   ]
  },
  {
   "cell_type": "code",
   "execution_count": null,
   "metadata": {
    "Collapsed": "false",
    "id": "PEvD9m455Fhq"
   },
   "outputs": [],
   "source": [
    "! mkdir train"
   ]
  },
  {
   "cell_type": "code",
   "execution_count": null,
   "metadata": {
    "Collapsed": "false",
    "colab": {
     "base_uri": "https://localhost:8080/",
     "height": 51
    },
    "id": "UdnuFvEW2uSc",
    "outputId": "ebd4f803-18c1-402c-d020-646c9180a1d7"
   },
   "outputs": [
    {
     "name": "stdout",
     "output_type": "stream",
     "text": [
      "Archive:  train.npy.zip\n",
      "  inflating: train/train.npy         \n"
     ]
    }
   ],
   "source": [
    "! unzip train.npy.zip -d train"
   ]
  },
  {
   "cell_type": "code",
   "execution_count": null,
   "metadata": {
    "Collapsed": "false",
    "colab": {
     "base_uri": "https://localhost:8080/",
     "height": 51
    },
    "id": "Et6cY9zA3JnX",
    "outputId": "5883276b-e6d2-4168-cfa8-2aec043d95d8"
   },
   "outputs": [
    {
     "name": "stdout",
     "output_type": "stream",
     "text": [
      "Archive:  train_labels.npy.zip\n",
      "  inflating: train/train_labels.npy  \n"
     ]
    }
   ],
   "source": [
    "! unzip train_labels.npy.zip -d train"
   ]
  },
  {
   "cell_type": "code",
   "execution_count": null,
   "metadata": {
    "Collapsed": "false",
    "colab": {
     "base_uri": "https://localhost:8080/",
     "height": 51
    },
    "id": "jWrpGvxI3RuQ",
    "outputId": "297c9bd6-ed9d-42de-aa77-4743868acbd1"
   },
   "outputs": [
    {
     "name": "stdout",
     "output_type": "stream",
     "text": [
      "Archive:  test.npy.zip\n",
      "  inflating: test/test.npy           \n"
     ]
    }
   ],
   "source": [
    "! unzip test.npy.zip -d test"
   ]
  },
  {
   "cell_type": "code",
   "execution_count": null,
   "metadata": {
    "Collapsed": "false",
    "colab": {
     "base_uri": "https://localhost:8080/",
     "height": 51
    },
    "id": "VjuUXXY73RLr",
    "outputId": "e0cd288f-ae32-4c99-f5e2-02e7138b95b7"
   },
   "outputs": [
    {
     "name": "stdout",
     "output_type": "stream",
     "text": [
      "Archive:  dev.npy.zip\n",
      "  inflating: val/dev.npy             \n"
     ]
    }
   ],
   "source": [
    "! unzip dev.npy.zip -d val"
   ]
  },
  {
   "cell_type": "code",
   "execution_count": null,
   "metadata": {
    "Collapsed": "false",
    "colab": {
     "base_uri": "https://localhost:8080/",
     "height": 51
    },
    "id": "whUrNTWd3aYo",
    "outputId": "7ae010e5-c536-4629-80f8-bc913b9db070"
   },
   "outputs": [
    {
     "name": "stdout",
     "output_type": "stream",
     "text": [
      "Archive:  dev_labels.npy.zip\n",
      "  inflating: val/dev_labels.npy      \n"
     ]
    }
   ],
   "source": [
    "! unzip dev_labels.npy.zip -d val"
   ]
  },
  {
   "cell_type": "code",
   "execution_count": null,
   "metadata": {
    "Collapsed": "false",
    "colab": {
     "base_uri": "https://localhost:8080/",
     "height": 51
    },
    "id": "HFfisqkL3Zxd",
    "outputId": "98e76105-395c-443d-b7ef-e5094250812b"
   },
   "outputs": [
    {
     "name": "stdout",
     "output_type": "stream",
     "text": [
      "Archive:  sample.csv.zip\n",
      "  inflating: sample/sample.csv       \n"
     ]
    }
   ],
   "source": [
    "! unzip sample.csv.zip -d sample"
   ]
  },
  {
   "cell_type": "code",
   "execution_count": null,
   "metadata": {
    "Collapsed": "false",
    "colab": {
     "base_uri": "https://localhost:8080/",
     "height": 289
    },
    "id": "H4keRCfg1Q9C",
    "outputId": "53bb6514-ff09-425a-e3b3-912e135bc49a"
   },
   "outputs": [
    {
     "name": "stdout",
     "output_type": "stream",
     "text": [
      "usage: kaggle [-h] [-v] {competitions,c,datasets,d,kernels,k,config} ...\n",
      "\n",
      "optional arguments:\n",
      "  -h, --help            show this help message and exit\n",
      "  -v, --version         show program's version number and exit\n",
      "\n",
      "commands:\n",
      "  {competitions,c,datasets,d,kernels,k,config}\n",
      "                        Use one of:\n",
      "                        competitions {list, files, download, submit, submissions, leaderboard}\n",
      "                        datasets {list, files, download, create, version, init, metadata, status}\n",
      "                        config {view, set, unset}\n",
      "    competitions        Commands related to Kaggle competitions\n",
      "    datasets            Commands related to Kaggle datasets\n",
      "    kernels             Commands related to Kaggle kernels\n",
      "    config              Configuration settings\n"
     ]
    }
   ],
   "source": [
    "!kaggle -h"
   ]
  },
  {
   "cell_type": "markdown",
   "metadata": {
    "Collapsed": "false",
    "id": "-dORACFd26KL"
   },
   "source": [
    "## Loading all the Data"
   ]
  },
  {
   "cell_type": "markdown",
   "metadata": {
    "Collapsed": "false",
    "id": "jtQ-chOu59uw"
   },
   "source": [
    "Imports "
   ]
  },
  {
   "cell_type": "code",
   "execution_count": null,
   "metadata": {
    "Collapsed": "false",
    "id": "ptEFVD112alR"
   },
   "outputs": [],
   "source": [
    "import numpy as np"
   ]
  },
  {
   "cell_type": "markdown",
   "metadata": {
    "Collapsed": "false",
    "id": "K5OcUhoz6Cml"
   },
   "source": [
    "Loading the data"
   ]
  },
  {
   "cell_type": "markdown",
   "metadata": {
    "Collapsed": "false",
    "id": "h-mNdysx8nMf"
   },
   "source": [
    "* **train.npy - training features**\n",
    "* [train|dev|test].npy contain a numpy object array of shape [utterances]. Each utterance is a float32 ndarray of shape [time, frequency], where time is the length of the utterance. Frequency dimension is always 13 but time dimension is of variable length."
   ]
  },
  {
   "cell_type": "code",
   "execution_count": null,
   "metadata": {
    "Collapsed": "false",
    "id": "-zvCC0mF5Aim"
   },
   "outputs": [],
   "source": [
    "Train_data = np.load('train/train.npy',allow_pickle=True,fix_imports=True)"
   ]
  },
  {
   "cell_type": "code",
   "execution_count": null,
   "metadata": {
    "Collapsed": "false",
    "id": "uWCgFRuZ1Q9K"
   },
   "outputs": [],
   "source": [
    "x = np.concatenate(Train_data)"
   ]
  },
  {
   "cell_type": "markdown",
   "metadata": {
    "Collapsed": "false",
    "id": "ihcg1MPy9ANT"
   },
   "source": [
    "* **training labels dev.npy - development/validation features**\n",
    "* [train|dev]_labels.npy contain a numpy object array of shape [utterances]. Each element in the array is an int32 array of shape [time] and provides the phoneme state label for each frame. There are 346 distinct labels [0-345], one for each subphoneme."
   ]
  },
  {
   "cell_type": "code",
   "execution_count": null,
   "metadata": {
    "Collapsed": "false",
    "id": "9XR_ZDz67RyD"
   },
   "outputs": [],
   "source": [
    "Train_labels = np.load('train/train_labels.npy',allow_pickle=True)"
   ]
  },
  {
   "cell_type": "code",
   "execution_count": null,
   "metadata": {
    "Collapsed": "false",
    "id": "mFZ-rJrU1Q9N"
   },
   "outputs": [],
   "source": [
    "y = np.concatenate(Train_labels)"
   ]
  },
  {
   "cell_type": "markdown",
   "metadata": {
    "Collapsed": "false",
    "id": "A1KbNRoUAMRi"
   },
   "source": [
    "* **dev.npy - development/validation features**\n",
    "* **dev_labels.npy - development/validation**"
   ]
  },
  {
   "cell_type": "code",
   "execution_count": null,
   "metadata": {
    "Collapsed": "false",
    "id": "cFD6PzKT-GAN"
   },
   "outputs": [],
   "source": [
    "Val_data = np.load('val/dev.npy',allow_pickle=True)"
   ]
  },
  {
   "cell_type": "code",
   "execution_count": null,
   "metadata": {
    "Collapsed": "false",
    "id": "2V2RamePAbVS"
   },
   "outputs": [],
   "source": [
    "Val_labels = np.load('val/dev_labels.npy',allow_pickle=True)"
   ]
  },
  {
   "cell_type": "markdown",
   "metadata": {
    "Collapsed": "false",
    "id": "-A7aZ1Dk1Q9T"
   },
   "source": [
    "**Test Data**"
   ]
  },
  {
   "cell_type": "code",
   "execution_count": null,
   "metadata": {
    "Collapsed": "false",
    "id": "AZbuG9Al1Q9T"
   },
   "outputs": [],
   "source": [
    "Test_data = np.load('test/test.npy',allow_pickle=True)"
   ]
  },
  {
   "cell_type": "markdown",
   "metadata": {
    "Collapsed": "false",
    "id": "UhTeavOZBrmx"
   },
   "source": [
    "**sample.csv - sample submission in correct format**"
   ]
  },
  {
   "cell_type": "code",
   "execution_count": null,
   "metadata": {
    "Collapsed": "false",
    "id": "tLYqWxwsAoek"
   },
   "outputs": [],
   "source": [
    "import pandas as pd\n",
    "sample = pd.read_csv('sample/sample.csv')"
   ]
  },
  {
   "cell_type": "code",
   "execution_count": null,
   "metadata": {
    "Collapsed": "false",
    "id": "O7S9fwIp1Q9W"
   },
   "outputs": [],
   "source": [
    "y_test = sample['label'].to_numpy()"
   ]
  },
  {
   "cell_type": "markdown",
   "metadata": {
    "Collapsed": "false",
    "id": "B60bhdSjBfev"
   },
   "source": [
    "## Setting up the Model"
   ]
  },
  {
   "cell_type": "code",
   "execution_count": null,
   "metadata": {
    "Collapsed": "false",
    "colab": {
     "base_uri": "https://localhost:8080/",
     "height": 68
    },
    "id": "NNuWOZ5K1Q9X",
    "outputId": "2a9fcf67-4ccf-4b5a-9e7e-eb411df2f675"
   },
   "outputs": [
    {
     "name": "stdout",
     "output_type": "stream",
     "text": [
      "Requirement already satisfied: torch in /usr/local/lib/python3.6/dist-packages (1.6.0+cu101)\n",
      "Requirement already satisfied: numpy in /usr/local/lib/python3.6/dist-packages (from torch) (1.18.5)\n",
      "Requirement already satisfied: future in /usr/local/lib/python3.6/dist-packages (from torch) (0.16.0)\n"
     ]
    }
   ],
   "source": [
    "!pip install torch"
   ]
  },
  {
   "cell_type": "code",
   "execution_count": null,
   "metadata": {
    "Collapsed": "false",
    "id": "KQun7LDcBP_e"
   },
   "outputs": [],
   "source": [
    "import torch\n",
    "import torch.nn as nn\n",
    "import torch.nn.functional as F\n",
    "import matplotlib.pyplot as plt\n",
    "%matplotlib inline"
   ]
  },
  {
   "cell_type": "code",
   "execution_count": null,
   "metadata": {
    "Collapsed": "false",
    "id": "uIGtqEHd1Q9a"
   },
   "outputs": [],
   "source": [
    "k = 20 # context size for utterance of size (A,13) a k of 5 makes the utterance (A + 2*5, 13)"
   ]
  },
  {
   "cell_type": "code",
   "execution_count": null,
   "metadata": {
    "Collapsed": "false",
    "id": "fS5nKm0jEf2S"
   },
   "outputs": [],
   "source": [
    "class Model(nn.Module):\n",
    "\n",
    "    def __init__(self,in_features=13*(1 + 2*k),h1=2048,h2=2048,h3=1024*2,h4=1024,h5=900,h6=900,h7=800,\n",
    "                 h8=800,h9 = 800,h10=800,h11=800,h12=800,h13=800,h14=800,h15=800,out_features=346):\n",
    "        \n",
    "        # How many layers?\n",
    "        # Input layer (# of features) --> hidden layer 1 (number of neurons N) --> h2 (N) --> output (346 of classes)\n",
    "        super().__init__()\n",
    "        self.fc1 = nn.Linear(in_features,h1)\n",
    "        self.bn1 = nn.BatchNorm1d(num_features=h1,momentum=0.01)\n",
    "        self.fc2 = nn.Linear(h1,h2)\n",
    "        self.d2 =  nn.Dropout(0.25)\n",
    "        self.bn2 = nn.BatchNorm1d(num_features=h2,momentum=0.01)\n",
    "        self.fc3 = nn.Linear(h2,h3)\n",
    "        self.bn3 = nn.BatchNorm1d(num_features=h3,momentum=0.01)\n",
    "        self.d3 = nn.Dropout(0.4)\n",
    "        self.fc4 = nn.Linear(h3,h4)\n",
    "        self.bn4 = nn.BatchNorm1d(num_features=h4,momentum=0.01)\n",
    "        self.d4 = nn.Dropout(0.3)\n",
    "        self.fc5 = nn.Linear(h4,h5)\n",
    "        self.bn5 = nn.BatchNorm1d(num_features=h5,momentum=0.01)\n",
    "        self.d5 = nn.Dropout(0.25)\n",
    "        self.fc6 = nn.Linear(h5,h6)\n",
    "        self.bn6 = nn.BatchNorm1d(num_features=h6,momentum=0.01)\n",
    "        self.d6 = nn.Dropout(0.35)\n",
    "        \n",
    "        self.fc7 = nn.Linear(h6,h7)\n",
    "        self.bn7 = nn.BatchNorm1d(num_features=h7,momentum=0.01)\n",
    "        self.d7 = nn.Dropout(0.4)\n",
    "        \n",
    "        self.fc8 = nn.Linear(h7,h8)\n",
    "        self.bn8 = nn.BatchNorm1d(num_features=h8,momentum=0.01)\n",
    "        self.d8 = nn.Dropout(0.35)\n",
    "        \n",
    "        self.fc9 = nn.Linear(h8,h9)\n",
    "        self.bn9 = nn.BatchNorm1d(num_features=h9,momentum=0.01)\n",
    "        self.d9 = nn.Dropout(0.2)\n",
    "        \n",
    "        self.fc10 = nn.Linear(h9,h10)\n",
    "        self.bn10 = nn.BatchNorm1d(num_features=h10,momentum=0.01)\n",
    "        self.d10 = nn.Dropout(0.25)\n",
    "        \n",
    "        self.fc11 = nn.Linear(h10,h11)\n",
    "        self.bn11 = nn.BatchNorm1d(num_features=h11,momentum=0.01)\n",
    "        self.d11 = nn.Dropout(0.2)\n",
    "\n",
    "        self.fc12 = nn.Linear(h11,h12)\n",
    "        self.bn12 = nn.BatchNorm1d(num_features=h12,momentum=0.01)\n",
    "        self.d12 = nn.Dropout(0.2)\n",
    "\n",
    "        self.fc13 = nn.Linear(h12,h13)\n",
    "        self.bn13 = nn.BatchNorm1d(num_features=h13,momentum=0.01)\n",
    "        self.d13 = nn.Dropout(0.2)\n",
    "\n",
    "        self.fc14 = nn.Linear(h13,h14)\n",
    "        self.bn14 = nn.BatchNorm1d(num_features=h14,momentum=0.01)\n",
    "        self.d14 = nn.Dropout(0.2)\n",
    "\n",
    "        self.fc15 = nn.Linear(h14,h15)\n",
    "        self.bn15 = nn.BatchNorm1d(num_features=h15,momentum=0.01)\n",
    "        self.d15 = nn.Dropout(0.2)\n",
    "\n",
    "        self.out = nn.Linear(h15,out_features)\n",
    "  \n",
    "    def forward(self,x):\n",
    "        x = F.relu(self.bn1(self.fc1(x)))\n",
    "        x = F.relu(self.bn2(self.d2(self.fc2(x))))\n",
    "        x = F.relu(self.bn3(self.d3(self.fc3(x))))\n",
    "        x = F.relu(self.bn4(self.d4(self.fc4(x))))\n",
    "        x = F.relu(self.bn5(self.d5(self.fc5(x))))\n",
    "        x = F.relu(self.bn6(self.d6(self.fc6(x))))\n",
    "        x = F.relu(self.bn7(self.d7(self.fc7(x))))\n",
    "        x = F.relu(self.bn8(self.d8(self.fc8(x))))\n",
    "        x = F.relu(self.bn9(self.d9(self.fc9(x))))\n",
    "        x = F.relu(self.bn10(self.d10(self.fc10(x))))\n",
    "        x = F.relu(self.bn11(self.d11(self.fc11(x))))\n",
    "        x = F.relu(self.bn12(self.d12(self.fc12(x))))\n",
    "        x = F.relu(self.bn13(self.d13(self.fc13(x))))\n",
    "        x = F.relu(self.bn14(self.d14(self.fc14(x))))\n",
    "        x = F.relu(self.bn15(self.d15(self.fc15(x))))\n",
    "\n",
    "        x = self.out(x)\n",
    "        return x"
   ]
  },
  {
   "cell_type": "code",
   "execution_count": null,
   "metadata": {
    "Collapsed": "false",
    "id": "2s3tq8KtKnMI"
   },
   "outputs": [],
   "source": [
    "seq_model = Model()"
   ]
  },
  {
   "cell_type": "markdown",
   "metadata": {
    "Collapsed": "false",
    "id": "eF1hOa5W1Q9d"
   },
   "source": [
    "## Working with Tensors "
   ]
  },
  {
   "cell_type": "code",
   "execution_count": null,
   "metadata": {
    "Collapsed": "false",
    "colab": {
     "base_uri": "https://localhost:8080/",
     "height": 122
    },
    "id": "powXNf9o1Q9d",
    "outputId": "6aad4109-2ce1-444b-feac-7959a55e2f24"
   },
   "outputs": [
    {
     "name": "stdout",
     "output_type": "stream",
     "text": [
      "Requirement already satisfied: torchvision in /usr/local/lib/python3.6/dist-packages (0.7.0+cu101)\n",
      "Requirement already satisfied: numpy in /usr/local/lib/python3.6/dist-packages (from torchvision) (1.18.5)\n",
      "Requirement already satisfied: torch==1.6.0 in /usr/local/lib/python3.6/dist-packages (from torchvision) (1.6.0+cu101)\n",
      "Requirement already satisfied: pillow>=4.1.1 in /usr/local/lib/python3.6/dist-packages (from torchvision) (7.0.0)\n",
      "Requirement already satisfied: future in /usr/local/lib/python3.6/dist-packages (from torch==1.6.0->torchvision) (0.16.0)\n"
     ]
    }
   ],
   "source": [
    "!pip install torchvision"
   ]
  },
  {
   "cell_type": "code",
   "execution_count": null,
   "metadata": {
    "Collapsed": "false",
    "id": "fvK1DBCT1Q9e"
   },
   "outputs": [],
   "source": [
    "from __future__ import print_function, division\n",
    "import os\n",
    "from torch.utils.data import Dataset, DataLoader\n",
    "from torchvision import transforms, utils"
   ]
  },
  {
   "cell_type": "code",
   "execution_count": null,
   "metadata": {
    "Collapsed": "false",
    "id": "BMLW3F6m1Q9f"
   },
   "outputs": [],
   "source": [
    "class My_Dataset(Dataset):\n",
    "    \n",
    "    def __init__(self,X,Y):\n",
    "        self.X = X\n",
    "        self.Y = Y\n",
    "        \n",
    "    def __len__(self):\n",
    "        return len(self.Y)\n",
    "    \n",
    "    def __getitem__(self,index):\n",
    "        if index > len(self.X) - (k + 1):\n",
    "            X = torch.Tensor(np.pad(self.X[index-k-1:].float(),pad_width=((0,(k  - len(self.X[index:].float()))),(0,0)),mode='reflect').flatten())\n",
    "        elif index <  k + 1:\n",
    "            X = torch.Tensor(np.pad(self.X[:index+k+1].float(),pad_width=((k  - index,0),(0,0)),mode='reflect').flatten())\n",
    "        else:\n",
    "            X = self.X[index-k:index+k+1].float().flatten()\n",
    "            \n",
    "        Y = self.Y[index].long()\n",
    "        return X,Y"
   ]
  },
  {
   "cell_type": "code",
   "execution_count": null,
   "metadata": {
    "Collapsed": "false",
    "id": "JUp8QxlM1Q9g"
   },
   "outputs": [],
   "source": [
    "X_test = torch.Tensor(np.concatenate(Test_data))\n",
    "y_test = torch.Tensor(y_test)"
   ]
  },
  {
   "cell_type": "code",
   "execution_count": null,
   "metadata": {
    "Collapsed": "false",
    "id": "UpR0syMw1Q9h"
   },
   "outputs": [],
   "source": [
    "y_val = torch.Tensor(np.concatenate(Val_labels))\n",
    "x_val = torch.Tensor(np.concatenate(Val_data))"
   ]
  },
  {
   "cell_type": "code",
   "execution_count": null,
   "metadata": {
    "Collapsed": "false",
    "id": "xV6ggySy1Q9i"
   },
   "outputs": [],
   "source": [
    "x = torch.Tensor(x)\n",
    "y = torch.Tensor(y)"
   ]
  },
  {
   "cell_type": "code",
   "execution_count": null,
   "metadata": {
    "Collapsed": "false",
    "id": "r4sVPXdU1Q9j"
   },
   "outputs": [],
   "source": [
    "val_dataset = My_Dataset(x_val,y_val)"
   ]
  },
  {
   "cell_type": "code",
   "execution_count": null,
   "metadata": {
    "Collapsed": "false",
    "id": "kg3f3TS61Q9k"
   },
   "outputs": [],
   "source": [
    "val_loader_args = dict(shuffle=False,batch_size=1024,num_workers=6,pin_memory=True)\n",
    "val_loader = DataLoader(val_dataset, **val_loader_args)"
   ]
  },
  {
   "cell_type": "code",
   "execution_count": null,
   "metadata": {
    "Collapsed": "false",
    "id": "1dN9pGe81Q9k"
   },
   "outputs": [],
   "source": [
    "test_dataset = My_Dataset(X_test,y_test)"
   ]
  },
  {
   "cell_type": "code",
   "execution_count": null,
   "metadata": {
    "Collapsed": "false",
    "id": "dnEbJtlh1Q9m"
   },
   "outputs": [],
   "source": [
    "test_loader_args = dict(shuffle=False,batch_size=1024,num_workers=6,pin_memory=True) \n",
    "test_loader = DataLoader(test_dataset, **test_loader_args)"
   ]
  },
  {
   "cell_type": "code",
   "execution_count": null,
   "metadata": {
    "Collapsed": "false",
    "id": "EURRfGAn1Q9m"
   },
   "outputs": [],
   "source": [
    "train_dataset = My_Dataset(x,y)"
   ]
  },
  {
   "cell_type": "code",
   "execution_count": null,
   "metadata": {
    "Collapsed": "false",
    "id": "ETerP8Gd1Q9n"
   },
   "outputs": [],
   "source": [
    "train_loader_args = dict(shuffle=True,batch_size=1024,num_workers=6,pin_memory=True,drop_last=True) \n",
    "train_loader = DataLoader(train_dataset, **train_loader_args)"
   ]
  },
  {
   "cell_type": "markdown",
   "metadata": {
    "Collapsed": "false",
    "id": "q_Ne45DqPi60"
   },
   "source": [
    "# Training the Model"
   ]
  },
  {
   "cell_type": "code",
   "execution_count": null,
   "metadata": {
    "Collapsed": "false",
    "colab": {
     "base_uri": "https://localhost:8080/",
     "height": 816
    },
    "id": "CLlp4GVp1Q9p",
    "outputId": "206499f7-60af-40bf-a904-8dc36f63e0e4"
   },
   "outputs": [
    {
     "data": {
      "text/plain": [
       "Model(\n",
       "  (fc1): Linear(in_features=585, out_features=4096, bias=True)\n",
       "  (bn1): BatchNorm1d(4096, eps=1e-05, momentum=0.01, affine=True, track_running_stats=True)\n",
       "  (fc2): Linear(in_features=4096, out_features=4096, bias=True)\n",
       "  (d2): Dropout(p=0.25, inplace=False)\n",
       "  (bn2): BatchNorm1d(4096, eps=1e-05, momentum=0.01, affine=True, track_running_stats=True)\n",
       "  (fc3): Linear(in_features=4096, out_features=2048, bias=True)\n",
       "  (bn3): BatchNorm1d(2048, eps=1e-05, momentum=0.01, affine=True, track_running_stats=True)\n",
       "  (d3): Dropout(p=0.4, inplace=False)\n",
       "  (fc4): Linear(in_features=2048, out_features=2048, bias=True)\n",
       "  (bn4): BatchNorm1d(2048, eps=1e-05, momentum=0.01, affine=True, track_running_stats=True)\n",
       "  (d4): Dropout(p=0.3, inplace=False)\n",
       "  (fc5): Linear(in_features=2048, out_features=2700, bias=True)\n",
       "  (bn5): BatchNorm1d(2700, eps=1e-05, momentum=0.01, affine=True, track_running_stats=True)\n",
       "  (d5): Dropout(p=0.25, inplace=False)\n",
       "  (fc6): Linear(in_features=2700, out_features=2700, bias=True)\n",
       "  (bn6): BatchNorm1d(2700, eps=1e-05, momentum=0.01, affine=True, track_running_stats=True)\n",
       "  (d6): Dropout(p=0.35, inplace=False)\n",
       "  (fc7): Linear(in_features=2700, out_features=2400, bias=True)\n",
       "  (bn7): BatchNorm1d(2400, eps=1e-05, momentum=0.01, affine=True, track_running_stats=True)\n",
       "  (d7): Dropout(p=0.4, inplace=False)\n",
       "  (fc8): Linear(in_features=2400, out_features=2400, bias=True)\n",
       "  (bn8): BatchNorm1d(2400, eps=1e-05, momentum=0.01, affine=True, track_running_stats=True)\n",
       "  (d8): Dropout(p=0.35, inplace=False)\n",
       "  (fc9): Linear(in_features=2400, out_features=2400, bias=True)\n",
       "  (bn9): BatchNorm1d(2400, eps=1e-05, momentum=0.01, affine=True, track_running_stats=True)\n",
       "  (d9): Dropout(p=0.2, inplace=False)\n",
       "  (fc10): Linear(in_features=2400, out_features=2400, bias=True)\n",
       "  (bn10): BatchNorm1d(2400, eps=1e-05, momentum=0.01, affine=True, track_running_stats=True)\n",
       "  (d10): Dropout(p=0.25, inplace=False)\n",
       "  (fc11): Linear(in_features=2400, out_features=1600, bias=True)\n",
       "  (bn11): BatchNorm1d(1600, eps=1e-05, momentum=0.01, affine=True, track_running_stats=True)\n",
       "  (d11): Dropout(p=0.2, inplace=False)\n",
       "  (fc12): Linear(in_features=1600, out_features=1600, bias=True)\n",
       "  (bn12): BatchNorm1d(1600, eps=1e-05, momentum=0.01, affine=True, track_running_stats=True)\n",
       "  (d12): Dropout(p=0.2, inplace=False)\n",
       "  (fc13): Linear(in_features=1600, out_features=1600, bias=True)\n",
       "  (bn13): BatchNorm1d(1600, eps=1e-05, momentum=0.01, affine=True, track_running_stats=True)\n",
       "  (d13): Dropout(p=0.2, inplace=False)\n",
       "  (fc14): Linear(in_features=1600, out_features=1600, bias=True)\n",
       "  (bn14): BatchNorm1d(1600, eps=1e-05, momentum=0.01, affine=True, track_running_stats=True)\n",
       "  (d14): Dropout(p=0.2, inplace=False)\n",
       "  (fc15): Linear(in_features=1600, out_features=1600, bias=True)\n",
       "  (bn15): BatchNorm1d(1600, eps=1e-05, momentum=0.01, affine=True, track_running_stats=True)\n",
       "  (d15): Dropout(p=0.2, inplace=False)\n",
       "  (out): Linear(in_features=1600, out_features=346, bias=True)\n",
       ")"
      ]
     },
     "execution_count": 46,
     "metadata": {
      "tags": []
     },
     "output_type": "execute_result"
    }
   ],
   "source": [
    "device = torch.device(\"cuda\")\n",
    "seq_model.to(device)"
   ]
  },
  {
   "cell_type": "code",
   "execution_count": null,
   "metadata": {
    "Collapsed": "false",
    "colab": {
     "base_uri": "https://localhost:8080/",
     "height": 816
    },
    "id": "MMlcYxv-1Q9q",
    "outputId": "37e24626-01d8-4c2b-ec3e-f01ae0217b3c"
   },
   "outputs": [
    {
     "data": {
      "text/plain": [
       "Model(\n",
       "  (fc1): Linear(in_features=585, out_features=4096, bias=True)\n",
       "  (bn1): BatchNorm1d(4096, eps=1e-05, momentum=0.01, affine=True, track_running_stats=True)\n",
       "  (fc2): Linear(in_features=4096, out_features=4096, bias=True)\n",
       "  (d2): Dropout(p=0.25, inplace=False)\n",
       "  (bn2): BatchNorm1d(4096, eps=1e-05, momentum=0.01, affine=True, track_running_stats=True)\n",
       "  (fc3): Linear(in_features=4096, out_features=2048, bias=True)\n",
       "  (bn3): BatchNorm1d(2048, eps=1e-05, momentum=0.01, affine=True, track_running_stats=True)\n",
       "  (d3): Dropout(p=0.4, inplace=False)\n",
       "  (fc4): Linear(in_features=2048, out_features=2048, bias=True)\n",
       "  (bn4): BatchNorm1d(2048, eps=1e-05, momentum=0.01, affine=True, track_running_stats=True)\n",
       "  (d4): Dropout(p=0.3, inplace=False)\n",
       "  (fc5): Linear(in_features=2048, out_features=2700, bias=True)\n",
       "  (bn5): BatchNorm1d(2700, eps=1e-05, momentum=0.01, affine=True, track_running_stats=True)\n",
       "  (d5): Dropout(p=0.25, inplace=False)\n",
       "  (fc6): Linear(in_features=2700, out_features=2700, bias=True)\n",
       "  (bn6): BatchNorm1d(2700, eps=1e-05, momentum=0.01, affine=True, track_running_stats=True)\n",
       "  (d6): Dropout(p=0.35, inplace=False)\n",
       "  (fc7): Linear(in_features=2700, out_features=2400, bias=True)\n",
       "  (bn7): BatchNorm1d(2400, eps=1e-05, momentum=0.01, affine=True, track_running_stats=True)\n",
       "  (d7): Dropout(p=0.4, inplace=False)\n",
       "  (fc8): Linear(in_features=2400, out_features=2400, bias=True)\n",
       "  (bn8): BatchNorm1d(2400, eps=1e-05, momentum=0.01, affine=True, track_running_stats=True)\n",
       "  (d8): Dropout(p=0.35, inplace=False)\n",
       "  (fc9): Linear(in_features=2400, out_features=2400, bias=True)\n",
       "  (bn9): BatchNorm1d(2400, eps=1e-05, momentum=0.01, affine=True, track_running_stats=True)\n",
       "  (d9): Dropout(p=0.2, inplace=False)\n",
       "  (fc10): Linear(in_features=2400, out_features=2400, bias=True)\n",
       "  (bn10): BatchNorm1d(2400, eps=1e-05, momentum=0.01, affine=True, track_running_stats=True)\n",
       "  (d10): Dropout(p=0.25, inplace=False)\n",
       "  (fc11): Linear(in_features=2400, out_features=1600, bias=True)\n",
       "  (bn11): BatchNorm1d(1600, eps=1e-05, momentum=0.01, affine=True, track_running_stats=True)\n",
       "  (d11): Dropout(p=0.2, inplace=False)\n",
       "  (fc12): Linear(in_features=1600, out_features=1600, bias=True)\n",
       "  (bn12): BatchNorm1d(1600, eps=1e-05, momentum=0.01, affine=True, track_running_stats=True)\n",
       "  (d12): Dropout(p=0.2, inplace=False)\n",
       "  (fc13): Linear(in_features=1600, out_features=1600, bias=True)\n",
       "  (bn13): BatchNorm1d(1600, eps=1e-05, momentum=0.01, affine=True, track_running_stats=True)\n",
       "  (d13): Dropout(p=0.2, inplace=False)\n",
       "  (fc14): Linear(in_features=1600, out_features=1600, bias=True)\n",
       "  (bn14): BatchNorm1d(1600, eps=1e-05, momentum=0.01, affine=True, track_running_stats=True)\n",
       "  (d14): Dropout(p=0.2, inplace=False)\n",
       "  (fc15): Linear(in_features=1600, out_features=1600, bias=True)\n",
       "  (bn15): BatchNorm1d(1600, eps=1e-05, momentum=0.01, affine=True, track_running_stats=True)\n",
       "  (d15): Dropout(p=0.2, inplace=False)\n",
       "  (out): Linear(in_features=1600, out_features=346, bias=True)\n",
       ")"
      ]
     },
     "execution_count": 47,
     "metadata": {
      "tags": []
     },
     "output_type": "execute_result"
    }
   ],
   "source": [
    "seq_model.train()"
   ]
  },
  {
   "cell_type": "code",
   "execution_count": null,
   "metadata": {
    "Collapsed": "false",
    "id": "A2n2h-ch1Q9r"
   },
   "outputs": [],
   "source": [
    "criterion = nn.CrossEntropyLoss()\n",
    "\n",
    "optimizer = torch.optim.Adam(seq_model.parameters(),lr=1e-4)\n",
    "\n",
    "#scheduler = torch.optim.lr_scheduler.StepLR(optimizer, gamma=0.5, step_size=33)"
   ]
  },
  {
   "cell_type": "code",
   "execution_count": null,
   "metadata": {
    "Collapsed": "false",
    "colab": {
     "base_uri": "https://localhost:8080/",
     "height": 816
    },
    "id": "uuEzCbW31Q9t",
    "outputId": "7a598f14-b199-44ac-f2ae-43a193134234"
   },
   "outputs": [
    {
     "data": {
      "text/plain": [
       "<bound method Module.parameters of Model(\n",
       "  (fc1): Linear(in_features=585, out_features=4096, bias=True)\n",
       "  (bn1): BatchNorm1d(4096, eps=1e-05, momentum=0.01, affine=True, track_running_stats=True)\n",
       "  (fc2): Linear(in_features=4096, out_features=4096, bias=True)\n",
       "  (d2): Dropout(p=0.25, inplace=False)\n",
       "  (bn2): BatchNorm1d(4096, eps=1e-05, momentum=0.01, affine=True, track_running_stats=True)\n",
       "  (fc3): Linear(in_features=4096, out_features=2048, bias=True)\n",
       "  (bn3): BatchNorm1d(2048, eps=1e-05, momentum=0.01, affine=True, track_running_stats=True)\n",
       "  (d3): Dropout(p=0.4, inplace=False)\n",
       "  (fc4): Linear(in_features=2048, out_features=2048, bias=True)\n",
       "  (bn4): BatchNorm1d(2048, eps=1e-05, momentum=0.01, affine=True, track_running_stats=True)\n",
       "  (d4): Dropout(p=0.3, inplace=False)\n",
       "  (fc5): Linear(in_features=2048, out_features=2700, bias=True)\n",
       "  (bn5): BatchNorm1d(2700, eps=1e-05, momentum=0.01, affine=True, track_running_stats=True)\n",
       "  (d5): Dropout(p=0.25, inplace=False)\n",
       "  (fc6): Linear(in_features=2700, out_features=2700, bias=True)\n",
       "  (bn6): BatchNorm1d(2700, eps=1e-05, momentum=0.01, affine=True, track_running_stats=True)\n",
       "  (d6): Dropout(p=0.35, inplace=False)\n",
       "  (fc7): Linear(in_features=2700, out_features=2400, bias=True)\n",
       "  (bn7): BatchNorm1d(2400, eps=1e-05, momentum=0.01, affine=True, track_running_stats=True)\n",
       "  (d7): Dropout(p=0.4, inplace=False)\n",
       "  (fc8): Linear(in_features=2400, out_features=2400, bias=True)\n",
       "  (bn8): BatchNorm1d(2400, eps=1e-05, momentum=0.01, affine=True, track_running_stats=True)\n",
       "  (d8): Dropout(p=0.35, inplace=False)\n",
       "  (fc9): Linear(in_features=2400, out_features=2400, bias=True)\n",
       "  (bn9): BatchNorm1d(2400, eps=1e-05, momentum=0.01, affine=True, track_running_stats=True)\n",
       "  (d9): Dropout(p=0.2, inplace=False)\n",
       "  (fc10): Linear(in_features=2400, out_features=2400, bias=True)\n",
       "  (bn10): BatchNorm1d(2400, eps=1e-05, momentum=0.01, affine=True, track_running_stats=True)\n",
       "  (d10): Dropout(p=0.25, inplace=False)\n",
       "  (fc11): Linear(in_features=2400, out_features=1600, bias=True)\n",
       "  (bn11): BatchNorm1d(1600, eps=1e-05, momentum=0.01, affine=True, track_running_stats=True)\n",
       "  (d11): Dropout(p=0.2, inplace=False)\n",
       "  (fc12): Linear(in_features=1600, out_features=1600, bias=True)\n",
       "  (bn12): BatchNorm1d(1600, eps=1e-05, momentum=0.01, affine=True, track_running_stats=True)\n",
       "  (d12): Dropout(p=0.2, inplace=False)\n",
       "  (fc13): Linear(in_features=1600, out_features=1600, bias=True)\n",
       "  (bn13): BatchNorm1d(1600, eps=1e-05, momentum=0.01, affine=True, track_running_stats=True)\n",
       "  (d13): Dropout(p=0.2, inplace=False)\n",
       "  (fc14): Linear(in_features=1600, out_features=1600, bias=True)\n",
       "  (bn14): BatchNorm1d(1600, eps=1e-05, momentum=0.01, affine=True, track_running_stats=True)\n",
       "  (d14): Dropout(p=0.2, inplace=False)\n",
       "  (fc15): Linear(in_features=1600, out_features=1600, bias=True)\n",
       "  (bn15): BatchNorm1d(1600, eps=1e-05, momentum=0.01, affine=True, track_running_stats=True)\n",
       "  (d15): Dropout(p=0.2, inplace=False)\n",
       "  (out): Linear(in_features=1600, out_features=346, bias=True)\n",
       ")>"
      ]
     },
     "execution_count": 50,
     "metadata": {
      "tags": []
     },
     "output_type": "execute_result"
    }
   ],
   "source": [
    "seq_model.parameters"
   ]
  },
  {
   "cell_type": "code",
   "execution_count": null,
   "metadata": {
    "Collapsed": "false",
    "id": "DbkAjbfe2iqv"
   },
   "outputs": [],
   "source": [
    "def validation_error(model,criterion,val_loader):\n",
    "    model.eval()\n",
    "    loss = []\n",
    "    for (xii,yii) in val_loader:\n",
    "        output = model.forward(xii)\n",
    "        loss = criterion(output,yii.cuda())\n",
    "    #val_error = np.mean(np.array(loss))\n",
    "    val_error = loss\n",
    "    return val_error"
   ]
  },
  {
   "cell_type": "code",
   "execution_count": null,
   "metadata": {
    "Collapsed": "false",
    "id": "kQPPhpkUgnYZ"
   },
   "outputs": [],
   "source": [
    "def Testing_Model(seq_model,test_loader,epoch):\n",
    "  import numpy as np \n",
    "  import torch \n",
    "  import pandas as pd\n",
    "  torch.save(seq_model.state_dict(), f'MyModel_{epoch}.pt')\n",
    "  model2 = Model()\n",
    "  model2.load_state_dict(torch.load(f'MyModel_{epoch}.pt'));\n",
    "  device = torch.device(\"cuda\")\n",
    "  model2.to(device)\n",
    "  model2.eval()\n",
    "  test_preds = []\n",
    "  for (xj,yj) in test_loader:\n",
    "      output = model2.forward(xj)\n",
    "      test_preds.append(np.argmax(output.cpu().detach().numpy(),axis=1))\n",
    "  combined_batches = np.array(test_preds)\n",
    "  Predictions = np.concatenate(combined_batches)\n",
    "  id = [i for i in range(len(Predictions))]\n",
    "  df_pred = pd.DataFrame(data={'id':id,'label':Predictions})\n",
    "  df_pred.to_csv(f'Predictions.csv',index=False)\n",
    "  !kaggle competitions submit -c 11-785-fall-20-homework-1-part-2 -f Predictions.csv -m \"Submission\""
   ]
  },
  {
   "cell_type": "code",
   "execution_count": null,
   "metadata": {
    "Collapsed": "false",
    "id": "_SFNHq7C1Q9x"
   },
   "outputs": [],
   "source": [
    "%%time\n",
    "# EPOCHS \n",
    "seq_model.train()\n",
    "epochs = 25\n",
    "losses = []\n",
    "loss = []\n",
    "val_error = []\n",
    "validation_losses = []\n",
    "for i in range(epochs):\n",
    "    losses.append(loss)\n",
    "    validation_losses.append(val_error)\n",
    "    seq_model.train()\n",
    "    print(f'Epoch {i}, loss {loss}, validation loss: {val_error}')\n",
    "    for (xi,yi) in train_loader:\n",
    "        optimizer.zero_grad()\n",
    "        xi = xi.to(device)\n",
    "        yi = yi.to(device)\n",
    "        output = seq_model(xi)\n",
    "        loss = criterion(output,yi)\n",
    "        loss.backward()\n",
    "        optimizer.step()\n",
    "\n",
    "    if (i+1) % 5 == 0:\n",
    "      Testing_Model(seq_model,test_loader,i)\n",
    "    val_error = validation_error(seq_model,criterion,val_loader)"
   ]
  },
  {
   "cell_type": "code",
   "execution_count": null,
   "metadata": {
    "Collapsed": "false",
    "id": "KYTCzwMIbsmn"
   },
   "outputs": [],
   "source": [
    "torch.save(seq_model.state_dict(), 'MyModel_V6.pt')"
   ]
  },
  {
   "cell_type": "markdown",
   "metadata": {
    "Collapsed": "false",
    "id": "tgJrRwbq1Q9y"
   },
   "source": [
    "# Predicting on the Test data "
   ]
  },
  {
   "cell_type": "code",
   "execution_count": null,
   "metadata": {
    "Collapsed": "false",
    "colab": {
     "base_uri": "https://localhost:8080/",
     "height": 816
    },
    "id": "B7B8uBXT1Q9y",
    "outputId": "9bca5c09-577a-43e3-8779-9284ad015b7a"
   },
   "outputs": [
    {
     "data": {
      "text/plain": [
       "Model(\n",
       "  (fc1): Linear(in_features=1001, out_features=4096, bias=True)\n",
       "  (bn1): BatchNorm1d(4096, eps=1e-05, momentum=0.01, affine=True, track_running_stats=True)\n",
       "  (fc2): Linear(in_features=4096, out_features=4096, bias=True)\n",
       "  (d2): Dropout(p=0.25, inplace=False)\n",
       "  (bn2): BatchNorm1d(4096, eps=1e-05, momentum=0.01, affine=True, track_running_stats=True)\n",
       "  (fc3): Linear(in_features=4096, out_features=2048, bias=True)\n",
       "  (bn3): BatchNorm1d(2048, eps=1e-05, momentum=0.01, affine=True, track_running_stats=True)\n",
       "  (d3): Dropout(p=0.4, inplace=False)\n",
       "  (fc4): Linear(in_features=2048, out_features=2048, bias=True)\n",
       "  (bn4): BatchNorm1d(2048, eps=1e-05, momentum=0.01, affine=True, track_running_stats=True)\n",
       "  (d4): Dropout(p=0.3, inplace=False)\n",
       "  (fc5): Linear(in_features=2048, out_features=2700, bias=True)\n",
       "  (bn5): BatchNorm1d(2700, eps=1e-05, momentum=0.01, affine=True, track_running_stats=True)\n",
       "  (d5): Dropout(p=0.25, inplace=False)\n",
       "  (fc6): Linear(in_features=2700, out_features=2700, bias=True)\n",
       "  (bn6): BatchNorm1d(2700, eps=1e-05, momentum=0.01, affine=True, track_running_stats=True)\n",
       "  (d6): Dropout(p=0.35, inplace=False)\n",
       "  (fc7): Linear(in_features=2700, out_features=2400, bias=True)\n",
       "  (bn7): BatchNorm1d(2400, eps=1e-05, momentum=0.01, affine=True, track_running_stats=True)\n",
       "  (d7): Dropout(p=0.4, inplace=False)\n",
       "  (fc8): Linear(in_features=2400, out_features=2400, bias=True)\n",
       "  (bn8): BatchNorm1d(2400, eps=1e-05, momentum=0.01, affine=True, track_running_stats=True)\n",
       "  (d8): Dropout(p=0.35, inplace=False)\n",
       "  (fc9): Linear(in_features=2400, out_features=2400, bias=True)\n",
       "  (bn9): BatchNorm1d(2400, eps=1e-05, momentum=0.01, affine=True, track_running_stats=True)\n",
       "  (d9): Dropout(p=0.2, inplace=False)\n",
       "  (fc10): Linear(in_features=2400, out_features=2400, bias=True)\n",
       "  (bn10): BatchNorm1d(2400, eps=1e-05, momentum=0.01, affine=True, track_running_stats=True)\n",
       "  (d10): Dropout(p=0.25, inplace=False)\n",
       "  (fc11): Linear(in_features=2400, out_features=1600, bias=True)\n",
       "  (bn11): BatchNorm1d(1600, eps=1e-05, momentum=0.01, affine=True, track_running_stats=True)\n",
       "  (d11): Dropout(p=0.2, inplace=False)\n",
       "  (fc12): Linear(in_features=1600, out_features=1600, bias=True)\n",
       "  (bn12): BatchNorm1d(1600, eps=1e-05, momentum=0.01, affine=True, track_running_stats=True)\n",
       "  (d12): Dropout(p=0.2, inplace=False)\n",
       "  (fc13): Linear(in_features=1600, out_features=1600, bias=True)\n",
       "  (bn13): BatchNorm1d(1600, eps=1e-05, momentum=0.01, affine=True, track_running_stats=True)\n",
       "  (d13): Dropout(p=0.2, inplace=False)\n",
       "  (fc14): Linear(in_features=1600, out_features=1600, bias=True)\n",
       "  (bn14): BatchNorm1d(1600, eps=1e-05, momentum=0.01, affine=True, track_running_stats=True)\n",
       "  (d14): Dropout(p=0.2, inplace=False)\n",
       "  (fc15): Linear(in_features=1600, out_features=1600, bias=True)\n",
       "  (bn15): BatchNorm1d(1600, eps=1e-05, momentum=0.01, affine=True, track_running_stats=True)\n",
       "  (d15): Dropout(p=0.2, inplace=False)\n",
       "  (out): Linear(in_features=1600, out_features=346, bias=True)\n",
       ")"
      ]
     },
     "execution_count": 55,
     "metadata": {
      "tags": []
     },
     "output_type": "execute_result"
    }
   ],
   "source": [
    "import numpy as np \n",
    "import torch \n",
    "import pandas as pd\n",
    "model2 = Model()\n",
    "model2.load_state_dict(torch.load(f'MyModel_V11.pt'));\n",
    "model2.eval()"
   ]
  },
  {
   "cell_type": "code",
   "execution_count": null,
   "metadata": {
    "Collapsed": "false",
    "colab": {
     "base_uri": "https://localhost:8080/",
     "height": 816
    },
    "id": "Qu49BECJ1Q9z",
    "outputId": "744a2cfc-d6d7-4813-ca01-fb3ac72df484"
   },
   "outputs": [
    {
     "data": {
      "text/plain": [
       "Model(\n",
       "  (fc1): Linear(in_features=1001, out_features=4096, bias=True)\n",
       "  (bn1): BatchNorm1d(4096, eps=1e-05, momentum=0.01, affine=True, track_running_stats=True)\n",
       "  (fc2): Linear(in_features=4096, out_features=4096, bias=True)\n",
       "  (d2): Dropout(p=0.25, inplace=False)\n",
       "  (bn2): BatchNorm1d(4096, eps=1e-05, momentum=0.01, affine=True, track_running_stats=True)\n",
       "  (fc3): Linear(in_features=4096, out_features=2048, bias=True)\n",
       "  (bn3): BatchNorm1d(2048, eps=1e-05, momentum=0.01, affine=True, track_running_stats=True)\n",
       "  (d3): Dropout(p=0.4, inplace=False)\n",
       "  (fc4): Linear(in_features=2048, out_features=2048, bias=True)\n",
       "  (bn4): BatchNorm1d(2048, eps=1e-05, momentum=0.01, affine=True, track_running_stats=True)\n",
       "  (d4): Dropout(p=0.3, inplace=False)\n",
       "  (fc5): Linear(in_features=2048, out_features=2700, bias=True)\n",
       "  (bn5): BatchNorm1d(2700, eps=1e-05, momentum=0.01, affine=True, track_running_stats=True)\n",
       "  (d5): Dropout(p=0.25, inplace=False)\n",
       "  (fc6): Linear(in_features=2700, out_features=2700, bias=True)\n",
       "  (bn6): BatchNorm1d(2700, eps=1e-05, momentum=0.01, affine=True, track_running_stats=True)\n",
       "  (d6): Dropout(p=0.35, inplace=False)\n",
       "  (fc7): Linear(in_features=2700, out_features=2400, bias=True)\n",
       "  (bn7): BatchNorm1d(2400, eps=1e-05, momentum=0.01, affine=True, track_running_stats=True)\n",
       "  (d7): Dropout(p=0.4, inplace=False)\n",
       "  (fc8): Linear(in_features=2400, out_features=2400, bias=True)\n",
       "  (bn8): BatchNorm1d(2400, eps=1e-05, momentum=0.01, affine=True, track_running_stats=True)\n",
       "  (d8): Dropout(p=0.35, inplace=False)\n",
       "  (fc9): Linear(in_features=2400, out_features=2400, bias=True)\n",
       "  (bn9): BatchNorm1d(2400, eps=1e-05, momentum=0.01, affine=True, track_running_stats=True)\n",
       "  (d9): Dropout(p=0.2, inplace=False)\n",
       "  (fc10): Linear(in_features=2400, out_features=2400, bias=True)\n",
       "  (bn10): BatchNorm1d(2400, eps=1e-05, momentum=0.01, affine=True, track_running_stats=True)\n",
       "  (d10): Dropout(p=0.25, inplace=False)\n",
       "  (fc11): Linear(in_features=2400, out_features=1600, bias=True)\n",
       "  (bn11): BatchNorm1d(1600, eps=1e-05, momentum=0.01, affine=True, track_running_stats=True)\n",
       "  (d11): Dropout(p=0.2, inplace=False)\n",
       "  (fc12): Linear(in_features=1600, out_features=1600, bias=True)\n",
       "  (bn12): BatchNorm1d(1600, eps=1e-05, momentum=0.01, affine=True, track_running_stats=True)\n",
       "  (d12): Dropout(p=0.2, inplace=False)\n",
       "  (fc13): Linear(in_features=1600, out_features=1600, bias=True)\n",
       "  (bn13): BatchNorm1d(1600, eps=1e-05, momentum=0.01, affine=True, track_running_stats=True)\n",
       "  (d13): Dropout(p=0.2, inplace=False)\n",
       "  (fc14): Linear(in_features=1600, out_features=1600, bias=True)\n",
       "  (bn14): BatchNorm1d(1600, eps=1e-05, momentum=0.01, affine=True, track_running_stats=True)\n",
       "  (d14): Dropout(p=0.2, inplace=False)\n",
       "  (fc15): Linear(in_features=1600, out_features=1600, bias=True)\n",
       "  (bn15): BatchNorm1d(1600, eps=1e-05, momentum=0.01, affine=True, track_running_stats=True)\n",
       "  (d15): Dropout(p=0.2, inplace=False)\n",
       "  (out): Linear(in_features=1600, out_features=346, bias=True)\n",
       ")"
      ]
     },
     "execution_count": 57,
     "metadata": {
      "tags": []
     },
     "output_type": "execute_result"
    }
   ],
   "source": [
    "device = torch.device(\"cuda\")\n",
    "model2.to(device)"
   ]
  },
  {
   "cell_type": "code",
   "execution_count": null,
   "metadata": {
    "Collapsed": "false",
    "colab": {
     "base_uri": "https://localhost:8080/",
     "height": 34
    },
    "id": "35CAXj5F1Q91",
    "outputId": "0db7a52b-7fd3-429b-c919-3a4ec4f55245"
   },
   "outputs": [
    {
     "name": "stdout",
     "output_type": "stream",
     "text": [
      "Hello\n"
     ]
    }
   ],
   "source": [
    "model2.eval()\n",
    "test_preds = []\n",
    "print('Hello')\n",
    "for (xj,yj) in test_loader:\n",
    "    output = model2.forward(xj)\n",
    "    test_preds.append(np.argmax(output.cpu().detach().numpy(),axis=1))"
   ]
  },
  {
   "cell_type": "code",
   "execution_count": null,
   "metadata": {
    "Collapsed": "false",
    "colab": {
     "base_uri": "https://localhost:8080/",
     "height": 34
    },
    "id": "mfqWQGSw1Q92",
    "outputId": "84f1ba96-63a1-4261-f3f8-2066db272552"
   },
   "outputs": [
    {
     "data": {
      "text/plain": [
       "(1593223,)"
      ]
     },
     "execution_count": 62,
     "metadata": {
      "tags": []
     },
     "output_type": "execute_result"
    }
   ],
   "source": [
    "np.concatenate(np.array(test_preds)).shape"
   ]
  },
  {
   "cell_type": "code",
   "execution_count": null,
   "metadata": {
    "Collapsed": "false",
    "colab": {
     "base_uri": "https://localhost:8080/",
     "height": 34
    },
    "id": "qGHIkb7E1Q93",
    "outputId": "4e165a8e-94ab-490f-c5d4-c281b146125c"
   },
   "outputs": [
    {
     "data": {
      "text/plain": [
       "(1556,)"
      ]
     },
     "execution_count": 64,
     "metadata": {
      "tags": []
     },
     "output_type": "execute_result"
    }
   ],
   "source": [
    "combined_batches = np.array(test_preds)\n",
    "combined_batches.shape"
   ]
  },
  {
   "cell_type": "code",
   "execution_count": null,
   "metadata": {
    "Collapsed": "false",
    "colab": {
     "base_uri": "https://localhost:8080/",
     "height": 34
    },
    "id": "liTf-D7a1Q93",
    "outputId": "376cac94-c12c-4496-ba4d-3004fe8f3fc9"
   },
   "outputs": [
    {
     "data": {
      "text/plain": [
       "(1593223,)"
      ]
     },
     "execution_count": 66,
     "metadata": {
      "tags": []
     },
     "output_type": "execute_result"
    }
   ],
   "source": [
    "Predictions = np.concatenate(combined_batches)\n",
    "Predictions.shape"
   ]
  },
  {
   "cell_type": "code",
   "execution_count": null,
   "metadata": {
    "Collapsed": "false",
    "id": "yUhHH-Am1Q94"
   },
   "outputs": [],
   "source": [
    "id = [i for i in range(len(Predictions))]"
   ]
  },
  {
   "cell_type": "code",
   "execution_count": null,
   "metadata": {
    "Collapsed": "false",
    "colab": {
     "base_uri": "https://localhost:8080/",
     "height": 419
    },
    "id": "Z4yNt0oG1Q95",
    "outputId": "d7e8b135-de82-486c-fd82-1db387e2b724"
   },
   "outputs": [
    {
     "data": {
      "text/html": [
       "<div>\n",
       "<style scoped>\n",
       "    .dataframe tbody tr th:only-of-type {\n",
       "        vertical-align: middle;\n",
       "    }\n",
       "\n",
       "    .dataframe tbody tr th {\n",
       "        vertical-align: top;\n",
       "    }\n",
       "\n",
       "    .dataframe thead th {\n",
       "        text-align: right;\n",
       "    }\n",
       "</style>\n",
       "<table border=\"1\" class=\"dataframe\">\n",
       "  <thead>\n",
       "    <tr style=\"text-align: right;\">\n",
       "      <th></th>\n",
       "      <th>id</th>\n",
       "      <th>label</th>\n",
       "    </tr>\n",
       "  </thead>\n",
       "  <tbody>\n",
       "    <tr>\n",
       "      <th>0</th>\n",
       "      <td>0</td>\n",
       "      <td>1</td>\n",
       "    </tr>\n",
       "    <tr>\n",
       "      <th>1</th>\n",
       "      <td>1</td>\n",
       "      <td>1</td>\n",
       "    </tr>\n",
       "    <tr>\n",
       "      <th>2</th>\n",
       "      <td>2</td>\n",
       "      <td>1</td>\n",
       "    </tr>\n",
       "    <tr>\n",
       "      <th>3</th>\n",
       "      <td>3</td>\n",
       "      <td>1</td>\n",
       "    </tr>\n",
       "    <tr>\n",
       "      <th>4</th>\n",
       "      <td>4</td>\n",
       "      <td>1</td>\n",
       "    </tr>\n",
       "    <tr>\n",
       "      <th>...</th>\n",
       "      <td>...</td>\n",
       "      <td>...</td>\n",
       "    </tr>\n",
       "    <tr>\n",
       "      <th>1593218</th>\n",
       "      <td>1593218</td>\n",
       "      <td>1</td>\n",
       "    </tr>\n",
       "    <tr>\n",
       "      <th>1593219</th>\n",
       "      <td>1593219</td>\n",
       "      <td>1</td>\n",
       "    </tr>\n",
       "    <tr>\n",
       "      <th>1593220</th>\n",
       "      <td>1593220</td>\n",
       "      <td>1</td>\n",
       "    </tr>\n",
       "    <tr>\n",
       "      <th>1593221</th>\n",
       "      <td>1593221</td>\n",
       "      <td>1</td>\n",
       "    </tr>\n",
       "    <tr>\n",
       "      <th>1593222</th>\n",
       "      <td>1593222</td>\n",
       "      <td>1</td>\n",
       "    </tr>\n",
       "  </tbody>\n",
       "</table>\n",
       "<p>1593223 rows × 2 columns</p>\n",
       "</div>"
      ],
      "text/plain": [
       "              id  label\n",
       "0              0      1\n",
       "1              1      1\n",
       "2              2      1\n",
       "3              3      1\n",
       "4              4      1\n",
       "...          ...    ...\n",
       "1593218  1593218      1\n",
       "1593219  1593219      1\n",
       "1593220  1593220      1\n",
       "1593221  1593221      1\n",
       "1593222  1593222      1\n",
       "\n",
       "[1593223 rows x 2 columns]"
      ]
     },
     "execution_count": 69,
     "metadata": {
      "tags": []
     },
     "output_type": "execute_result"
    }
   ],
   "source": [
    "df_pred = pd.DataFrame(data={'id':id,'label':Predictions})\n",
    "df_pred"
   ]
  },
  {
   "cell_type": "code",
   "execution_count": null,
   "metadata": {
    "Collapsed": "false",
    "id": "cYDnRoc41Q96"
   },
   "outputs": [],
   "source": [
    "df_pred.to_csv(f'Predictions.csv',index=False)"
   ]
  },
  {
   "cell_type": "code",
   "execution_count": null,
   "metadata": {
    "Collapsed": "false",
    "id": "cf1qOWUw1Q96"
   },
   "outputs": [],
   "source": [
    "!kaggle competitions submit -c 11-785-fall-20-homework-1-part-2 -f Predictions.csv -m \"Submission\""
   ]
  },
  {
   "cell_type": "markdown",
   "metadata": {
    "Collapsed": "false",
    "id": "rhRAaPYM1Q97"
   },
   "source": [
    "# Evaluating Training losses "
   ]
  },
  {
   "cell_type": "code",
   "execution_count": null,
   "metadata": {
    "Collapsed": "false",
    "id": "fq2kqF8G1Q97"
   },
   "outputs": [],
   "source": [
    "losses = losses[1:]"
   ]
  },
  {
   "cell_type": "code",
   "execution_count": null,
   "metadata": {
    "Collapsed": "false",
    "id": "7fMqgIzc1Q98",
    "outputId": "795a726a-bea2-4986-ea6c-e6d0091df88f"
   },
   "outputs": [
    {
     "data": {
      "text/plain": [
       "Text(0, 0.5, 'CrossEntropyLoss')"
      ]
     },
     "execution_count": 113,
     "metadata": {
      "tags": []
     },
     "output_type": "execute_result"
    },
    {
     "data": {
      "image/png": "[encoded data removed]",
      "text/plain": [
       "<Figure size 432x288 with 1 Axes>"
      ]
     },
     "metadata": {
      "needs_background": "light",
      "tags": []
     },
     "output_type": "display_data"
    }
   ],
   "source": [
    "import seaborn as sns\n",
    "#sns.set_style('DarkGrid')\n",
    "plt.plot(losses,'--')\n",
    "plt.xlabel('Epochs')\n",
    "plt.ylabel('CrossEntropyLoss')"
   ]
  }
 ],
 "metadata": {
  "accelerator": "GPU",
  "colab": {
   "machine_shape": "hm",
   "name": "HW1P2_KaggleCompetition_Code_Sub.ipynb",
   "provenance": [],
   "toc_visible": true
  },
  "kernelspec": {
   "display_name": "Python 3",
   "language": "python",
   "name": "python3"
  },
  "language_info": {
   "codemirror_mode": {
    "name": "ipython",
    "version": 3
   },
   "file_extension": ".py",
   "mimetype": "text/x-python",
   "name": "python",
   "nbconvert_exporter": "python",
   "pygments_lexer": "ipython3",
   "version": "3.7.7"
  }
 },
 "nbformat": 4,
 "nbformat_minor": 4
}
